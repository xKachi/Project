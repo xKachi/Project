{
 "cells": [
  {
   "cell_type": "markdown",
   "id": "8e547e4e",
   "metadata": {},
   "source": [
    "# Machine Learning Modeling Using Principal Component Analysis (PCA) "
   ]
  },
  {
   "cell_type": "code",
   "execution_count": 1,
   "id": "ae11bf2e",
   "metadata": {},
   "outputs": [],
   "source": [
    "%%capture\n",
    "%matplotlib inline\n",
    "import pycaret\n",
    "from sklearn.model_selection import train_test_split\n",
    "from EDA_Optimized import *\n",
    "from pycaret.classification import *\n",
    "from sklearn.decomposition import PCA"
   ]
  },
  {
   "cell_type": "markdown",
   "id": "8487618d",
   "metadata": {},
   "source": [
    "#### Decomposing into components"
   ]
  },
  {
   "cell_type": "code",
   "execution_count": 2,
   "id": "cfb1afac",
   "metadata": {},
   "outputs": [],
   "source": [
    "class_ = ds[\"class\"] # Extract the target variable 'class' from the dataset\n",
    "X = ds.drop(\"class\", axis=1) # Drop the 'class' column from the dataset to create the feature matrix\n",
    "n_components = 2 # Define the number of principal components to retain\n",
    "pca = PCA(n_components=n_components) # Initialize the PCA object with the specified number of components\n",
    "\n"
   ]
  },
  {
   "cell_type": "markdown",
   "id": "cdf11449",
   "metadata": {},
   "source": [
    "#### Fit and trandform the data using PCA"
   ]
  },
  {
   "cell_type": "code",
   "execution_count": 3,
   "id": "c700d81e",
   "metadata": {},
   "outputs": [],
   "source": [
    "X_pca = pca.fit_transform(X)"
   ]
  },
  {
   "cell_type": "markdown",
   "id": "82db907e",
   "metadata": {},
   "source": [
    "#### Create a DataFrame with the transformed data"
   ]
  },
  {
   "cell_type": "code",
   "execution_count": 4,
   "id": "614af39d",
   "metadata": {},
   "outputs": [
    {
     "data": {
      "text/html": [
       "<div>\n",
       "<style scoped>\n",
       "    .dataframe tbody tr th:only-of-type {\n",
       "        vertical-align: middle;\n",
       "    }\n",
       "\n",
       "    .dataframe tbody tr th {\n",
       "        vertical-align: top;\n",
       "    }\n",
       "\n",
       "    .dataframe thead th {\n",
       "        text-align: right;\n",
       "    }\n",
       "</style>\n",
       "<table border=\"1\" class=\"dataframe\">\n",
       "  <thead>\n",
       "    <tr style=\"text-align: right;\">\n",
       "      <th></th>\n",
       "      <th>PC1</th>\n",
       "      <th>PC2</th>\n",
       "      <th>class</th>\n",
       "    </tr>\n",
       "  </thead>\n",
       "  <tbody>\n",
       "    <tr>\n",
       "      <th>0</th>\n",
       "      <td>-68.690522</td>\n",
       "      <td>-9.108052</td>\n",
       "      <td>1</td>\n",
       "    </tr>\n",
       "    <tr>\n",
       "      <th>1</th>\n",
       "      <td>-37.982435</td>\n",
       "      <td>36.961967</td>\n",
       "      <td>1</td>\n",
       "    </tr>\n",
       "    <tr>\n",
       "      <th>2</th>\n",
       "      <td>-52.802149</td>\n",
       "      <td>-0.135064</td>\n",
       "      <td>1</td>\n",
       "    </tr>\n",
       "    <tr>\n",
       "      <th>3</th>\n",
       "      <td>-39.516957</td>\n",
       "      <td>-50.538726</td>\n",
       "      <td>1</td>\n",
       "    </tr>\n",
       "    <tr>\n",
       "      <th>4</th>\n",
       "      <td>111.569392</td>\n",
       "      <td>-34.048538</td>\n",
       "      <td>1</td>\n",
       "    </tr>\n",
       "  </tbody>\n",
       "</table>\n",
       "</div>"
      ],
      "text/plain": [
       "          PC1        PC2  class\n",
       "0  -68.690522  -9.108052      1\n",
       "1  -37.982435  36.961967      1\n",
       "2  -52.802149  -0.135064      1\n",
       "3  -39.516957 -50.538726      1\n",
       "4  111.569392 -34.048538      1"
      ]
     },
     "execution_count": 4,
     "metadata": {},
     "output_type": "execute_result"
    }
   ],
   "source": [
    "pca_ds = pd.DataFrame(\n",
    "    data=X_pca, columns=[f\"PC{i+1}\" for i in range(n_components)]\n",
    ")\n",
    "pca_ds[\"class\"] = class_\n",
    "pca_ds.head()"
   ]
  },
  {
   "cell_type": "code",
   "execution_count": 5,
   "id": "e7c20d63",
   "metadata": {},
   "outputs": [
    {
     "data": {
      "text/html": [
       "<style type=\"text/css\">\n",
       "#T_8c798_row8_col1, #T_8c798_row12_col1 {\n",
       "  background-color: lightgreen;\n",
       "}\n",
       "</style>\n",
       "<table id=\"T_8c798\">\n",
       "  <thead>\n",
       "    <tr>\n",
       "      <th class=\"blank level0\" >&nbsp;</th>\n",
       "      <th id=\"T_8c798_level0_col0\" class=\"col_heading level0 col0\" >Description</th>\n",
       "      <th id=\"T_8c798_level0_col1\" class=\"col_heading level0 col1\" >Value</th>\n",
       "    </tr>\n",
       "  </thead>\n",
       "  <tbody>\n",
       "    <tr>\n",
       "      <th id=\"T_8c798_level0_row0\" class=\"row_heading level0 row0\" >0</th>\n",
       "      <td id=\"T_8c798_row0_col0\" class=\"data row0 col0\" >Session id</td>\n",
       "      <td id=\"T_8c798_row0_col1\" class=\"data row0 col1\" >123</td>\n",
       "    </tr>\n",
       "    <tr>\n",
       "      <th id=\"T_8c798_level0_row1\" class=\"row_heading level0 row1\" >1</th>\n",
       "      <td id=\"T_8c798_row1_col0\" class=\"data row1 col0\" >Target</td>\n",
       "      <td id=\"T_8c798_row1_col1\" class=\"data row1 col1\" >class</td>\n",
       "    </tr>\n",
       "    <tr>\n",
       "      <th id=\"T_8c798_level0_row2\" class=\"row_heading level0 row2\" >2</th>\n",
       "      <td id=\"T_8c798_row2_col0\" class=\"data row2 col0\" >Target type</td>\n",
       "      <td id=\"T_8c798_row2_col1\" class=\"data row2 col1\" >Binary</td>\n",
       "    </tr>\n",
       "    <tr>\n",
       "      <th id=\"T_8c798_level0_row3\" class=\"row_heading level0 row3\" >3</th>\n",
       "      <td id=\"T_8c798_row3_col0\" class=\"data row3 col0\" >Original data shape</td>\n",
       "      <td id=\"T_8c798_row3_col1\" class=\"data row3 col1\" >(155, 3)</td>\n",
       "    </tr>\n",
       "    <tr>\n",
       "      <th id=\"T_8c798_level0_row4\" class=\"row_heading level0 row4\" >4</th>\n",
       "      <td id=\"T_8c798_row4_col0\" class=\"data row4 col0\" >Transformed data shape</td>\n",
       "      <td id=\"T_8c798_row4_col1\" class=\"data row4 col1\" >(155, 3)</td>\n",
       "    </tr>\n",
       "    <tr>\n",
       "      <th id=\"T_8c798_level0_row5\" class=\"row_heading level0 row5\" >5</th>\n",
       "      <td id=\"T_8c798_row5_col0\" class=\"data row5 col0\" >Transformed train set shape</td>\n",
       "      <td id=\"T_8c798_row5_col1\" class=\"data row5 col1\" >(108, 3)</td>\n",
       "    </tr>\n",
       "    <tr>\n",
       "      <th id=\"T_8c798_level0_row6\" class=\"row_heading level0 row6\" >6</th>\n",
       "      <td id=\"T_8c798_row6_col0\" class=\"data row6 col0\" >Transformed test set shape</td>\n",
       "      <td id=\"T_8c798_row6_col1\" class=\"data row6 col1\" >(47, 3)</td>\n",
       "    </tr>\n",
       "    <tr>\n",
       "      <th id=\"T_8c798_level0_row7\" class=\"row_heading level0 row7\" >7</th>\n",
       "      <td id=\"T_8c798_row7_col0\" class=\"data row7 col0\" >Numeric features</td>\n",
       "      <td id=\"T_8c798_row7_col1\" class=\"data row7 col1\" >2</td>\n",
       "    </tr>\n",
       "    <tr>\n",
       "      <th id=\"T_8c798_level0_row8\" class=\"row_heading level0 row8\" >8</th>\n",
       "      <td id=\"T_8c798_row8_col0\" class=\"data row8 col0\" >Preprocess</td>\n",
       "      <td id=\"T_8c798_row8_col1\" class=\"data row8 col1\" >True</td>\n",
       "    </tr>\n",
       "    <tr>\n",
       "      <th id=\"T_8c798_level0_row9\" class=\"row_heading level0 row9\" >9</th>\n",
       "      <td id=\"T_8c798_row9_col0\" class=\"data row9 col0\" >Imputation type</td>\n",
       "      <td id=\"T_8c798_row9_col1\" class=\"data row9 col1\" >simple</td>\n",
       "    </tr>\n",
       "    <tr>\n",
       "      <th id=\"T_8c798_level0_row10\" class=\"row_heading level0 row10\" >10</th>\n",
       "      <td id=\"T_8c798_row10_col0\" class=\"data row10 col0\" >Numeric imputation</td>\n",
       "      <td id=\"T_8c798_row10_col1\" class=\"data row10 col1\" >mean</td>\n",
       "    </tr>\n",
       "    <tr>\n",
       "      <th id=\"T_8c798_level0_row11\" class=\"row_heading level0 row11\" >11</th>\n",
       "      <td id=\"T_8c798_row11_col0\" class=\"data row11 col0\" >Categorical imputation</td>\n",
       "      <td id=\"T_8c798_row11_col1\" class=\"data row11 col1\" >mode</td>\n",
       "    </tr>\n",
       "    <tr>\n",
       "      <th id=\"T_8c798_level0_row12\" class=\"row_heading level0 row12\" >12</th>\n",
       "      <td id=\"T_8c798_row12_col0\" class=\"data row12 col0\" >Normalize</td>\n",
       "      <td id=\"T_8c798_row12_col1\" class=\"data row12 col1\" >True</td>\n",
       "    </tr>\n",
       "    <tr>\n",
       "      <th id=\"T_8c798_level0_row13\" class=\"row_heading level0 row13\" >13</th>\n",
       "      <td id=\"T_8c798_row13_col0\" class=\"data row13 col0\" >Normalize method</td>\n",
       "      <td id=\"T_8c798_row13_col1\" class=\"data row13 col1\" >zscore</td>\n",
       "    </tr>\n",
       "    <tr>\n",
       "      <th id=\"T_8c798_level0_row14\" class=\"row_heading level0 row14\" >14</th>\n",
       "      <td id=\"T_8c798_row14_col0\" class=\"data row14 col0\" >Fold Generator</td>\n",
       "      <td id=\"T_8c798_row14_col1\" class=\"data row14 col1\" >StratifiedKFold</td>\n",
       "    </tr>\n",
       "    <tr>\n",
       "      <th id=\"T_8c798_level0_row15\" class=\"row_heading level0 row15\" >15</th>\n",
       "      <td id=\"T_8c798_row15_col0\" class=\"data row15 col0\" >Fold Number</td>\n",
       "      <td id=\"T_8c798_row15_col1\" class=\"data row15 col1\" >10</td>\n",
       "    </tr>\n",
       "    <tr>\n",
       "      <th id=\"T_8c798_level0_row16\" class=\"row_heading level0 row16\" >16</th>\n",
       "      <td id=\"T_8c798_row16_col0\" class=\"data row16 col0\" >CPU Jobs</td>\n",
       "      <td id=\"T_8c798_row16_col1\" class=\"data row16 col1\" >-1</td>\n",
       "    </tr>\n",
       "    <tr>\n",
       "      <th id=\"T_8c798_level0_row17\" class=\"row_heading level0 row17\" >17</th>\n",
       "      <td id=\"T_8c798_row17_col0\" class=\"data row17 col0\" >Use GPU</td>\n",
       "      <td id=\"T_8c798_row17_col1\" class=\"data row17 col1\" >False</td>\n",
       "    </tr>\n",
       "    <tr>\n",
       "      <th id=\"T_8c798_level0_row18\" class=\"row_heading level0 row18\" >18</th>\n",
       "      <td id=\"T_8c798_row18_col0\" class=\"data row18 col0\" >Log Experiment</td>\n",
       "      <td id=\"T_8c798_row18_col1\" class=\"data row18 col1\" >False</td>\n",
       "    </tr>\n",
       "    <tr>\n",
       "      <th id=\"T_8c798_level0_row19\" class=\"row_heading level0 row19\" >19</th>\n",
       "      <td id=\"T_8c798_row19_col0\" class=\"data row19 col0\" >Experiment Name</td>\n",
       "      <td id=\"T_8c798_row19_col1\" class=\"data row19 col1\" >clf-default-name</td>\n",
       "    </tr>\n",
       "    <tr>\n",
       "      <th id=\"T_8c798_level0_row20\" class=\"row_heading level0 row20\" >20</th>\n",
       "      <td id=\"T_8c798_row20_col0\" class=\"data row20 col0\" >USI</td>\n",
       "      <td id=\"T_8c798_row20_col1\" class=\"data row20 col1\" >9590</td>\n",
       "    </tr>\n",
       "  </tbody>\n",
       "</table>\n"
      ],
      "text/plain": [
       "<pandas.io.formats.style.Styler at 0x7f554fb5bf90>"
      ]
     },
     "metadata": {},
     "output_type": "display_data"
    }
   ],
   "source": [
    "s = setup(data=pca_ds, target='class', session_id=123, normalize=True)"
   ]
  },
  {
   "cell_type": "code",
   "execution_count": 6,
   "id": "f2d7c586",
   "metadata": {},
   "outputs": [
    {
     "data": {
      "text/html": [],
      "text/plain": [
       "<IPython.core.display.HTML object>"
      ]
     },
     "metadata": {},
     "output_type": "display_data"
    },
    {
     "data": {
      "text/html": [
       "<style type=\"text/css\">\n",
       "#T_5d079 th {\n",
       "  text-align: left;\n",
       "}\n",
       "#T_5d079_row0_col0, #T_5d079_row0_col2, #T_5d079_row0_col3, #T_5d079_row0_col4, #T_5d079_row0_col5, #T_5d079_row0_col6, #T_5d079_row0_col7, #T_5d079_row1_col0, #T_5d079_row1_col3, #T_5d079_row1_col4, #T_5d079_row1_col5, #T_5d079_row1_col6, #T_5d079_row1_col7, #T_5d079_row2_col0, #T_5d079_row2_col2, #T_5d079_row2_col4, #T_5d079_row2_col6, #T_5d079_row2_col7, #T_5d079_row3_col0, #T_5d079_row3_col1, #T_5d079_row3_col2, #T_5d079_row3_col3, #T_5d079_row3_col4, #T_5d079_row3_col5, #T_5d079_row3_col6, #T_5d079_row3_col7, #T_5d079_row4_col0, #T_5d079_row4_col1, #T_5d079_row4_col2, #T_5d079_row4_col3, #T_5d079_row4_col4, #T_5d079_row4_col5, #T_5d079_row4_col6, #T_5d079_row4_col7, #T_5d079_row5_col0, #T_5d079_row5_col1, #T_5d079_row5_col3, #T_5d079_row5_col4, #T_5d079_row5_col5, #T_5d079_row5_col6, #T_5d079_row5_col7, #T_5d079_row6_col0, #T_5d079_row6_col1, #T_5d079_row6_col2, #T_5d079_row6_col3, #T_5d079_row6_col5, #T_5d079_row7_col0, #T_5d079_row7_col1, #T_5d079_row7_col2, #T_5d079_row7_col3, #T_5d079_row7_col4, #T_5d079_row7_col5, #T_5d079_row7_col6, #T_5d079_row7_col7, #T_5d079_row8_col0, #T_5d079_row8_col1, #T_5d079_row8_col2, #T_5d079_row8_col3, #T_5d079_row8_col4, #T_5d079_row8_col5, #T_5d079_row8_col6, #T_5d079_row8_col7, #T_5d079_row9_col0, #T_5d079_row9_col1, #T_5d079_row9_col2, #T_5d079_row9_col3, #T_5d079_row9_col4, #T_5d079_row9_col5, #T_5d079_row9_col6, #T_5d079_row9_col7, #T_5d079_row10_col0, #T_5d079_row10_col1, #T_5d079_row10_col2, #T_5d079_row10_col3, #T_5d079_row10_col4, #T_5d079_row10_col5, #T_5d079_row10_col6, #T_5d079_row10_col7, #T_5d079_row11_col0, #T_5d079_row11_col1, #T_5d079_row11_col2, #T_5d079_row11_col3, #T_5d079_row11_col4, #T_5d079_row11_col5, #T_5d079_row11_col6, #T_5d079_row11_col7, #T_5d079_row12_col0, #T_5d079_row12_col1, #T_5d079_row12_col2, #T_5d079_row12_col3, #T_5d079_row12_col4, #T_5d079_row12_col5, #T_5d079_row12_col6, #T_5d079_row12_col7, #T_5d079_row13_col0, #T_5d079_row13_col1, #T_5d079_row13_col2, #T_5d079_row13_col3, #T_5d079_row13_col4, #T_5d079_row13_col5, #T_5d079_row13_col6, #T_5d079_row13_col7 {\n",
       "  text-align: left;\n",
       "}\n",
       "#T_5d079_row0_col1, #T_5d079_row1_col1, #T_5d079_row1_col2, #T_5d079_row2_col1, #T_5d079_row2_col3, #T_5d079_row2_col5, #T_5d079_row5_col2, #T_5d079_row6_col4, #T_5d079_row6_col6, #T_5d079_row6_col7 {\n",
       "  text-align: left;\n",
       "  background-color: yellow;\n",
       "}\n",
       "#T_5d079_row0_col8, #T_5d079_row1_col8, #T_5d079_row4_col8, #T_5d079_row5_col8, #T_5d079_row6_col8, #T_5d079_row7_col8, #T_5d079_row8_col8, #T_5d079_row9_col8, #T_5d079_row10_col8, #T_5d079_row12_col8 {\n",
       "  text-align: left;\n",
       "  background-color: lightgrey;\n",
       "}\n",
       "#T_5d079_row2_col8, #T_5d079_row3_col8, #T_5d079_row11_col8, #T_5d079_row13_col8 {\n",
       "  text-align: left;\n",
       "  background-color: yellow;\n",
       "  background-color: lightgrey;\n",
       "}\n",
       "</style>\n",
       "<table id=\"T_5d079\">\n",
       "  <thead>\n",
       "    <tr>\n",
       "      <th class=\"blank level0\" >&nbsp;</th>\n",
       "      <th id=\"T_5d079_level0_col0\" class=\"col_heading level0 col0\" >Model</th>\n",
       "      <th id=\"T_5d079_level0_col1\" class=\"col_heading level0 col1\" >Accuracy</th>\n",
       "      <th id=\"T_5d079_level0_col2\" class=\"col_heading level0 col2\" >AUC</th>\n",
       "      <th id=\"T_5d079_level0_col3\" class=\"col_heading level0 col3\" >Recall</th>\n",
       "      <th id=\"T_5d079_level0_col4\" class=\"col_heading level0 col4\" >Prec.</th>\n",
       "      <th id=\"T_5d079_level0_col5\" class=\"col_heading level0 col5\" >F1</th>\n",
       "      <th id=\"T_5d079_level0_col6\" class=\"col_heading level0 col6\" >Kappa</th>\n",
       "      <th id=\"T_5d079_level0_col7\" class=\"col_heading level0 col7\" >MCC</th>\n",
       "      <th id=\"T_5d079_level0_col8\" class=\"col_heading level0 col8\" >TT (Sec)</th>\n",
       "    </tr>\n",
       "  </thead>\n",
       "  <tbody>\n",
       "    <tr>\n",
       "      <th id=\"T_5d079_level0_row0\" class=\"row_heading level0 row0\" >lr</th>\n",
       "      <td id=\"T_5d079_row0_col0\" class=\"data row0 col0\" >Logistic Regression</td>\n",
       "      <td id=\"T_5d079_row0_col1\" class=\"data row0 col1\" >0.7964</td>\n",
       "      <td id=\"T_5d079_row0_col2\" class=\"data row0 col2\" >0.6806</td>\n",
       "      <td id=\"T_5d079_row0_col3\" class=\"data row0 col3\" >0.9778</td>\n",
       "      <td id=\"T_5d079_row0_col4\" class=\"data row0 col4\" >0.8091</td>\n",
       "      <td id=\"T_5d079_row0_col5\" class=\"data row0 col5\" >0.8841</td>\n",
       "      <td id=\"T_5d079_row0_col6\" class=\"data row0 col6\" >0.0966</td>\n",
       "      <td id=\"T_5d079_row0_col7\" class=\"data row0 col7\" >0.1043</td>\n",
       "      <td id=\"T_5d079_row0_col8\" class=\"data row0 col8\" >0.3360</td>\n",
       "    </tr>\n",
       "    <tr>\n",
       "      <th id=\"T_5d079_level0_row1\" class=\"row_heading level0 row1\" >lda</th>\n",
       "      <td id=\"T_5d079_row1_col0\" class=\"data row1 col0\" >Linear Discriminant Analysis</td>\n",
       "      <td id=\"T_5d079_row1_col1\" class=\"data row1 col1\" >0.7964</td>\n",
       "      <td id=\"T_5d079_row1_col2\" class=\"data row1 col2\" >0.6861</td>\n",
       "      <td id=\"T_5d079_row1_col3\" class=\"data row1 col3\" >0.9778</td>\n",
       "      <td id=\"T_5d079_row1_col4\" class=\"data row1 col4\" >0.8091</td>\n",
       "      <td id=\"T_5d079_row1_col5\" class=\"data row1 col5\" >0.8841</td>\n",
       "      <td id=\"T_5d079_row1_col6\" class=\"data row1 col6\" >0.0966</td>\n",
       "      <td id=\"T_5d079_row1_col7\" class=\"data row1 col7\" >0.1043</td>\n",
       "      <td id=\"T_5d079_row1_col8\" class=\"data row1 col8\" >0.0090</td>\n",
       "    </tr>\n",
       "    <tr>\n",
       "      <th id=\"T_5d079_level0_row2\" class=\"row_heading level0 row2\" >dummy</th>\n",
       "      <td id=\"T_5d079_row2_col0\" class=\"data row2 col0\" >Dummy Classifier</td>\n",
       "      <td id=\"T_5d079_row2_col1\" class=\"data row2 col1\" >0.7964</td>\n",
       "      <td id=\"T_5d079_row2_col2\" class=\"data row2 col2\" >0.5000</td>\n",
       "      <td id=\"T_5d079_row2_col3\" class=\"data row2 col3\" >1.0000</td>\n",
       "      <td id=\"T_5d079_row2_col4\" class=\"data row2 col4\" >0.7964</td>\n",
       "      <td id=\"T_5d079_row2_col5\" class=\"data row2 col5\" >0.8862</td>\n",
       "      <td id=\"T_5d079_row2_col6\" class=\"data row2 col6\" >0.0000</td>\n",
       "      <td id=\"T_5d079_row2_col7\" class=\"data row2 col7\" >0.0000</td>\n",
       "      <td id=\"T_5d079_row2_col8\" class=\"data row2 col8\" >0.0080</td>\n",
       "    </tr>\n",
       "    <tr>\n",
       "      <th id=\"T_5d079_level0_row3\" class=\"row_heading level0 row3\" >nb</th>\n",
       "      <td id=\"T_5d079_row3_col0\" class=\"data row3 col0\" >Naive Bayes</td>\n",
       "      <td id=\"T_5d079_row3_col1\" class=\"data row3 col1\" >0.7882</td>\n",
       "      <td id=\"T_5d079_row3_col2\" class=\"data row3 col2\" >0.6438</td>\n",
       "      <td id=\"T_5d079_row3_col3\" class=\"data row3 col3\" >0.9667</td>\n",
       "      <td id=\"T_5d079_row3_col4\" class=\"data row3 col4\" >0.8087</td>\n",
       "      <td id=\"T_5d079_row3_col5\" class=\"data row3 col5\" >0.8787</td>\n",
       "      <td id=\"T_5d079_row3_col6\" class=\"data row3 col6\" >0.0728</td>\n",
       "      <td id=\"T_5d079_row3_col7\" class=\"data row3 col7\" >0.0757</td>\n",
       "      <td id=\"T_5d079_row3_col8\" class=\"data row3 col8\" >0.0080</td>\n",
       "    </tr>\n",
       "    <tr>\n",
       "      <th id=\"T_5d079_level0_row4\" class=\"row_heading level0 row4\" >qda</th>\n",
       "      <td id=\"T_5d079_row4_col0\" class=\"data row4 col0\" >Quadratic Discriminant Analysis</td>\n",
       "      <td id=\"T_5d079_row4_col1\" class=\"data row4 col1\" >0.7791</td>\n",
       "      <td id=\"T_5d079_row4_col2\" class=\"data row4 col2\" >0.6757</td>\n",
       "      <td id=\"T_5d079_row4_col3\" class=\"data row4 col3\" >0.9556</td>\n",
       "      <td id=\"T_5d079_row4_col4\" class=\"data row4 col4\" >0.8069</td>\n",
       "      <td id=\"T_5d079_row4_col5\" class=\"data row4 col5\" >0.8729</td>\n",
       "      <td id=\"T_5d079_row4_col6\" class=\"data row4 col6\" >0.0590</td>\n",
       "      <td id=\"T_5d079_row4_col7\" class=\"data row4 col7\" >0.0608</td>\n",
       "      <td id=\"T_5d079_row4_col8\" class=\"data row4 col8\" >0.0100</td>\n",
       "    </tr>\n",
       "    <tr>\n",
       "      <th id=\"T_5d079_level0_row5\" class=\"row_heading level0 row5\" >ridge</th>\n",
       "      <td id=\"T_5d079_row5_col0\" class=\"data row5 col0\" >Ridge Classifier</td>\n",
       "      <td id=\"T_5d079_row5_col1\" class=\"data row5 col1\" >0.7782</td>\n",
       "      <td id=\"T_5d079_row5_col2\" class=\"data row5 col2\" >0.6861</td>\n",
       "      <td id=\"T_5d079_row5_col3\" class=\"data row5 col3\" >0.9778</td>\n",
       "      <td id=\"T_5d079_row5_col4\" class=\"data row5 col4\" >0.7927</td>\n",
       "      <td id=\"T_5d079_row5_col5\" class=\"data row5 col5\" >0.8746</td>\n",
       "      <td id=\"T_5d079_row5_col6\" class=\"data row5 col6\" >-0.0276</td>\n",
       "      <td id=\"T_5d079_row5_col7\" class=\"data row5 col7\" >-0.0298</td>\n",
       "      <td id=\"T_5d079_row5_col8\" class=\"data row5 col8\" >0.0090</td>\n",
       "    </tr>\n",
       "    <tr>\n",
       "      <th id=\"T_5d079_level0_row6\" class=\"row_heading level0 row6\" >rf</th>\n",
       "      <td id=\"T_5d079_row6_col0\" class=\"data row6 col0\" >Random Forest Classifier</td>\n",
       "      <td id=\"T_5d079_row6_col1\" class=\"data row6 col1\" >0.7691</td>\n",
       "      <td id=\"T_5d079_row6_col2\" class=\"data row6 col2\" >0.6392</td>\n",
       "      <td id=\"T_5d079_row6_col3\" class=\"data row6 col3\" >0.9097</td>\n",
       "      <td id=\"T_5d079_row6_col4\" class=\"data row6 col4\" >0.8195</td>\n",
       "      <td id=\"T_5d079_row6_col5\" class=\"data row6 col5\" >0.8587</td>\n",
       "      <td id=\"T_5d079_row6_col6\" class=\"data row6 col6\" >0.1623</td>\n",
       "      <td id=\"T_5d079_row6_col7\" class=\"data row6 col7\" >0.1805</td>\n",
       "      <td id=\"T_5d079_row6_col8\" class=\"data row6 col8\" >0.0430</td>\n",
       "    </tr>\n",
       "    <tr>\n",
       "      <th id=\"T_5d079_level0_row7\" class=\"row_heading level0 row7\" >lightgbm</th>\n",
       "      <td id=\"T_5d079_row7_col0\" class=\"data row7 col0\" >Light Gradient Boosting Machine</td>\n",
       "      <td id=\"T_5d079_row7_col1\" class=\"data row7 col1\" >0.7691</td>\n",
       "      <td id=\"T_5d079_row7_col2\" class=\"data row7 col2\" >0.6535</td>\n",
       "      <td id=\"T_5d079_row7_col3\" class=\"data row7 col3\" >0.9431</td>\n",
       "      <td id=\"T_5d079_row7_col4\" class=\"data row7 col4\" >0.8046</td>\n",
       "      <td id=\"T_5d079_row7_col5\" class=\"data row7 col5\" >0.8664</td>\n",
       "      <td id=\"T_5d079_row7_col6\" class=\"data row7 col6\" >0.0437</td>\n",
       "      <td id=\"T_5d079_row7_col7\" class=\"data row7 col7\" >0.0442</td>\n",
       "      <td id=\"T_5d079_row7_col8\" class=\"data row7 col8\" >0.1540</td>\n",
       "    </tr>\n",
       "    <tr>\n",
       "      <th id=\"T_5d079_level0_row8\" class=\"row_heading level0 row8\" >et</th>\n",
       "      <td id=\"T_5d079_row8_col0\" class=\"data row8 col0\" >Extra Trees Classifier</td>\n",
       "      <td id=\"T_5d079_row8_col1\" class=\"data row8 col1\" >0.7509</td>\n",
       "      <td id=\"T_5d079_row8_col2\" class=\"data row8 col2\" >0.6476</td>\n",
       "      <td id=\"T_5d079_row8_col3\" class=\"data row8 col3\" >0.8875</td>\n",
       "      <td id=\"T_5d079_row8_col4\" class=\"data row8 col4\" >0.8155</td>\n",
       "      <td id=\"T_5d079_row8_col5\" class=\"data row8 col5\" >0.8465</td>\n",
       "      <td id=\"T_5d079_row8_col6\" class=\"data row8 col6\" >0.1401</td>\n",
       "      <td id=\"T_5d079_row8_col7\" class=\"data row8 col7\" >0.1583</td>\n",
       "      <td id=\"T_5d079_row8_col8\" class=\"data row8 col8\" >0.0390</td>\n",
       "    </tr>\n",
       "    <tr>\n",
       "      <th id=\"T_5d079_level0_row9\" class=\"row_heading level0 row9\" >ada</th>\n",
       "      <td id=\"T_5d079_row9_col0\" class=\"data row9 col0\" >Ada Boost Classifier</td>\n",
       "      <td id=\"T_5d079_row9_col1\" class=\"data row9 col1\" >0.7318</td>\n",
       "      <td id=\"T_5d079_row9_col2\" class=\"data row9 col2\" >0.5604</td>\n",
       "      <td id=\"T_5d079_row9_col3\" class=\"data row9 col3\" >0.8986</td>\n",
       "      <td id=\"T_5d079_row9_col4\" class=\"data row9 col4\" >0.7915</td>\n",
       "      <td id=\"T_5d079_row9_col5\" class=\"data row9 col5\" >0.8378</td>\n",
       "      <td id=\"T_5d079_row9_col6\" class=\"data row9 col6\" >0.0070</td>\n",
       "      <td id=\"T_5d079_row9_col7\" class=\"data row9 col7\" >0.0144</td>\n",
       "      <td id=\"T_5d079_row9_col8\" class=\"data row9 col8\" >0.0310</td>\n",
       "    </tr>\n",
       "    <tr>\n",
       "      <th id=\"T_5d079_level0_row10\" class=\"row_heading level0 row10\" >knn</th>\n",
       "      <td id=\"T_5d079_row10_col0\" class=\"data row10 col0\" >K Neighbors Classifier</td>\n",
       "      <td id=\"T_5d079_row10_col1\" class=\"data row10 col1\" >0.7136</td>\n",
       "      <td id=\"T_5d079_row10_col2\" class=\"data row10 col2\" >0.6312</td>\n",
       "      <td id=\"T_5d079_row10_col3\" class=\"data row10 col3\" >0.8875</td>\n",
       "      <td id=\"T_5d079_row10_col4\" class=\"data row10 col4\" >0.7832</td>\n",
       "      <td id=\"T_5d079_row10_col5\" class=\"data row10 col5\" >0.8282</td>\n",
       "      <td id=\"T_5d079_row10_col6\" class=\"data row10 col6\" >-0.0505</td>\n",
       "      <td id=\"T_5d079_row10_col7\" class=\"data row10 col7\" >-0.0520</td>\n",
       "      <td id=\"T_5d079_row10_col8\" class=\"data row10 col8\" >0.0110</td>\n",
       "    </tr>\n",
       "    <tr>\n",
       "      <th id=\"T_5d079_level0_row11\" class=\"row_heading level0 row11\" >dt</th>\n",
       "      <td id=\"T_5d079_row11_col0\" class=\"data row11 col0\" >Decision Tree Classifier</td>\n",
       "      <td id=\"T_5d079_row11_col1\" class=\"data row11 col1\" >0.7136</td>\n",
       "      <td id=\"T_5d079_row11_col2\" class=\"data row11 col2\" >0.5403</td>\n",
       "      <td id=\"T_5d079_row11_col3\" class=\"data row11 col3\" >0.8306</td>\n",
       "      <td id=\"T_5d079_row11_col4\" class=\"data row11 col4\" >0.8056</td>\n",
       "      <td id=\"T_5d079_row11_col5\" class=\"data row11 col5\" >0.8118</td>\n",
       "      <td id=\"T_5d079_row11_col6\" class=\"data row11 col6\" >0.1378</td>\n",
       "      <td id=\"T_5d079_row11_col7\" class=\"data row11 col7\" >0.1377</td>\n",
       "      <td id=\"T_5d079_row11_col8\" class=\"data row11 col8\" >0.0080</td>\n",
       "    </tr>\n",
       "    <tr>\n",
       "      <th id=\"T_5d079_level0_row12\" class=\"row_heading level0 row12\" >gbc</th>\n",
       "      <td id=\"T_5d079_row12_col0\" class=\"data row12 col0\" >Gradient Boosting Classifier</td>\n",
       "      <td id=\"T_5d079_row12_col1\" class=\"data row12 col1\" >0.7045</td>\n",
       "      <td id=\"T_5d079_row12_col2\" class=\"data row12 col2\" >0.6156</td>\n",
       "      <td id=\"T_5d079_row12_col3\" class=\"data row12 col3\" >0.8500</td>\n",
       "      <td id=\"T_5d079_row12_col4\" class=\"data row12 col4\" >0.7890</td>\n",
       "      <td id=\"T_5d079_row12_col5\" class=\"data row12 col5\" >0.8132</td>\n",
       "      <td id=\"T_5d079_row12_col6\" class=\"data row12 col6\" >0.0073</td>\n",
       "      <td id=\"T_5d079_row12_col7\" class=\"data row12 col7\" >0.0011</td>\n",
       "      <td id=\"T_5d079_row12_col8\" class=\"data row12 col8\" >0.0330</td>\n",
       "    </tr>\n",
       "    <tr>\n",
       "      <th id=\"T_5d079_level0_row13\" class=\"row_heading level0 row13\" >svm</th>\n",
       "      <td id=\"T_5d079_row13_col0\" class=\"data row13 col0\" >SVM - Linear Kernel</td>\n",
       "      <td id=\"T_5d079_row13_col1\" class=\"data row13 col1\" >0.6964</td>\n",
       "      <td id=\"T_5d079_row13_col2\" class=\"data row13 col2\" >0.5715</td>\n",
       "      <td id=\"T_5d079_row13_col3\" class=\"data row13 col3\" >0.8333</td>\n",
       "      <td id=\"T_5d079_row13_col4\" class=\"data row13 col4\" >0.7171</td>\n",
       "      <td id=\"T_5d079_row13_col5\" class=\"data row13 col5\" >0.7657</td>\n",
       "      <td id=\"T_5d079_row13_col6\" class=\"data row13 col6\" >0.0334</td>\n",
       "      <td id=\"T_5d079_row13_col7\" class=\"data row13 col7\" >0.0401</td>\n",
       "      <td id=\"T_5d079_row13_col8\" class=\"data row13 col8\" >0.0080</td>\n",
       "    </tr>\n",
       "  </tbody>\n",
       "</table>\n"
      ],
      "text/plain": [
       "<pandas.io.formats.style.Styler at 0x7f5568ed1950>"
      ]
     },
     "metadata": {},
     "output_type": "display_data"
    },
    {
     "data": {
      "text/html": [],
      "text/plain": [
       "<IPython.core.display.HTML object>"
      ]
     },
     "metadata": {},
     "output_type": "display_data"
    }
   ],
   "source": [
    "best_model = compare_models()"
   ]
  },
  {
   "cell_type": "markdown",
   "id": "19367367",
   "metadata": {},
   "source": [
    "## Evaluate the best model"
   ]
  },
  {
   "cell_type": "code",
   "execution_count": 7,
   "id": "74e1435e",
   "metadata": {},
   "outputs": [
    {
     "data": {
      "application/vnd.jupyter.widget-view+json": {
       "model_id": "15746389b6fb41168fd19d5ab47b9cfc",
       "version_major": 2,
       "version_minor": 0
      },
      "text/plain": [
       "interactive(children=(ToggleButtons(description='Plot Type:', icons=('',), options=(('Pipeline Plot', 'pipelin…"
      ]
     },
     "metadata": {},
     "output_type": "display_data"
    }
   ],
   "source": [
    "evaluate_model(best_model)"
   ]
  },
  {
   "cell_type": "markdown",
   "id": "81b285f1",
   "metadata": {},
   "source": [
    "### Plot various aspects of the best model"
   ]
  },
  {
   "cell_type": "code",
   "execution_count": 8,
   "id": "048505d0",
   "metadata": {
    "scrolled": false
   },
   "outputs": [
    {
     "data": {
      "text/html": [],
      "text/plain": [
       "<IPython.core.display.HTML object>"
      ]
     },
     "metadata": {},
     "output_type": "display_data"
    },
    {
     "data": {
      "image/png": "[encoded data removed]",
      "text/plain": [
       "<Figure size 800x550 with 1 Axes>"
      ]
     },
     "metadata": {},
     "output_type": "display_data"
    },
    {
     "data": {
      "text/html": [],
      "text/plain": [
       "<IPython.core.display.HTML object>"
      ]
     },
     "metadata": {},
     "output_type": "display_data"
    },
    {
     "data": {
      "image/png": "[encoded data removed]",
      "text/plain": [
       "<Figure size 800x550 with 1 Axes>"
      ]
     },
     "metadata": {},
     "output_type": "display_data"
    },
    {
     "data": {
      "text/html": [],
      "text/plain": [
       "<IPython.core.display.HTML object>"
      ]
     },
     "metadata": {},
     "output_type": "display_data"
    },
    {
     "data": {
      "image/png": "[encoded data removed]",
      "text/plain": [
       "<Figure size 800x550 with 1 Axes>"
      ]
     },
     "metadata": {},
     "output_type": "display_data"
    },
    {
     "data": {
      "text/html": [],
      "text/plain": [
       "<IPython.core.display.HTML object>"
      ]
     },
     "metadata": {},
     "output_type": "display_data"
    },
    {
     "data": {
      "image/png": "[encoded data removed]",
      "text/plain": [
       "<Figure size 800x500 with 1 Axes>"
      ]
     },
     "metadata": {},
     "output_type": "display_data"
    }
   ],
   "source": [
    "plot_model(best_model, plot='confusion_matrix')\n",
    "plot_model(best_model, plot='auc')\n",
    "plot_model(best_model, plot='pr')\n",
    "plot_model(best_model, plot='feature')"
   ]
  },
  {
   "cell_type": "markdown",
   "id": "cc196f45",
   "metadata": {},
   "source": [
    "### Making Predictions"
   ]
  },
  {
   "cell_type": "code",
   "execution_count": 9,
   "id": "c16e014f",
   "metadata": {},
   "outputs": [
    {
     "data": {
      "text/html": [
       "<style type=\"text/css\">\n",
       "</style>\n",
       "<table id=\"T_e0f0c\">\n",
       "  <thead>\n",
       "    <tr>\n",
       "      <th class=\"blank level0\" >&nbsp;</th>\n",
       "      <th id=\"T_e0f0c_level0_col0\" class=\"col_heading level0 col0\" >Model</th>\n",
       "      <th id=\"T_e0f0c_level0_col1\" class=\"col_heading level0 col1\" >Accuracy</th>\n",
       "      <th id=\"T_e0f0c_level0_col2\" class=\"col_heading level0 col2\" >AUC</th>\n",
       "      <th id=\"T_e0f0c_level0_col3\" class=\"col_heading level0 col3\" >Recall</th>\n",
       "      <th id=\"T_e0f0c_level0_col4\" class=\"col_heading level0 col4\" >Prec.</th>\n",
       "      <th id=\"T_e0f0c_level0_col5\" class=\"col_heading level0 col5\" >F1</th>\n",
       "      <th id=\"T_e0f0c_level0_col6\" class=\"col_heading level0 col6\" >Kappa</th>\n",
       "      <th id=\"T_e0f0c_level0_col7\" class=\"col_heading level0 col7\" >MCC</th>\n",
       "    </tr>\n",
       "  </thead>\n",
       "  <tbody>\n",
       "    <tr>\n",
       "      <th id=\"T_e0f0c_level0_row0\" class=\"row_heading level0 row0\" >0</th>\n",
       "      <td id=\"T_e0f0c_row0_col0\" class=\"data row0 col0\" >Logistic Regression</td>\n",
       "      <td id=\"T_e0f0c_row0_col1\" class=\"data row0 col1\" >0.7872</td>\n",
       "      <td id=\"T_e0f0c_row0_col2\" class=\"data row0 col2\" >0.1622</td>\n",
       "      <td id=\"T_e0f0c_row0_col3\" class=\"data row0 col3\" >1.0000</td>\n",
       "      <td id=\"T_e0f0c_row0_col4\" class=\"data row0 col4\" >0.7872</td>\n",
       "      <td id=\"T_e0f0c_row0_col5\" class=\"data row0 col5\" >0.8810</td>\n",
       "      <td id=\"T_e0f0c_row0_col6\" class=\"data row0 col6\" >0.0000</td>\n",
       "      <td id=\"T_e0f0c_row0_col7\" class=\"data row0 col7\" >0.0000</td>\n",
       "    </tr>\n",
       "  </tbody>\n",
       "</table>\n"
      ],
      "text/plain": [
       "<pandas.io.formats.style.Styler at 0x7f554efbbf90>"
      ]
     },
     "metadata": {},
     "output_type": "display_data"
    },
    {
     "data": {
      "text/html": [
       "<div>\n",
       "<style scoped>\n",
       "    .dataframe tbody tr th:only-of-type {\n",
       "        vertical-align: middle;\n",
       "    }\n",
       "\n",
       "    .dataframe tbody tr th {\n",
       "        vertical-align: top;\n",
       "    }\n",
       "\n",
       "    .dataframe thead th {\n",
       "        text-align: right;\n",
       "    }\n",
       "</style>\n",
       "<table border=\"1\" class=\"dataframe\">\n",
       "  <thead>\n",
       "    <tr style=\"text-align: right;\">\n",
       "      <th></th>\n",
       "      <th>PC1</th>\n",
       "      <th>PC2</th>\n",
       "      <th>class</th>\n",
       "      <th>prediction_label</th>\n",
       "      <th>prediction_score</th>\n",
       "    </tr>\n",
       "  </thead>\n",
       "  <tbody>\n",
       "    <tr>\n",
       "      <th>122</th>\n",
       "      <td>-46.765934</td>\n",
       "      <td>-12.110934</td>\n",
       "      <td>1</td>\n",
       "      <td>1</td>\n",
       "      <td>0.8040</td>\n",
       "    </tr>\n",
       "    <tr>\n",
       "      <th>44</th>\n",
       "      <td>-1.311981</td>\n",
       "      <td>-18.426281</td>\n",
       "      <td>1</td>\n",
       "      <td>1</td>\n",
       "      <td>0.8481</td>\n",
       "    </tr>\n",
       "    <tr>\n",
       "      <th>112</th>\n",
       "      <td>-56.554646</td>\n",
       "      <td>-10.733547</td>\n",
       "      <td>1</td>\n",
       "      <td>1</td>\n",
       "      <td>0.7933</td>\n",
       "    </tr>\n",
       "    <tr>\n",
       "      <th>75</th>\n",
       "      <td>-44.343910</td>\n",
       "      <td>-38.631256</td>\n",
       "      <td>1</td>\n",
       "      <td>1</td>\n",
       "      <td>0.8496</td>\n",
       "    </tr>\n",
       "    <tr>\n",
       "      <th>150</th>\n",
       "      <td>155.158676</td>\n",
       "      <td>-35.472729</td>\n",
       "      <td>0</td>\n",
       "      <td>1</td>\n",
       "      <td>0.9387</td>\n",
       "    </tr>\n",
       "  </tbody>\n",
       "</table>\n",
       "</div>"
      ],
      "text/plain": [
       "            PC1        PC2  class  prediction_label  prediction_score\n",
       "122  -46.765934 -12.110934      1                 1            0.8040\n",
       "44    -1.311981 -18.426281      1                 1            0.8481\n",
       "112  -56.554646 -10.733547      1                 1            0.7933\n",
       "75   -44.343910 -38.631256      1                 1            0.8496\n",
       "150  155.158676 -35.472729      0                 1            0.9387"
      ]
     },
     "execution_count": 9,
     "metadata": {},
     "output_type": "execute_result"
    }
   ],
   "source": [
    "predictions = predict_model(best_model)\n",
    "predictions.head()"
   ]
  },
  {
   "cell_type": "markdown",
   "id": "484b1659",
   "metadata": {},
   "source": [
    "### Displaying the probability of both classes"
   ]
  },
  {
   "cell_type": "code",
   "execution_count": 10,
   "id": "71ddabba",
   "metadata": {},
   "outputs": [
    {
     "data": {
      "text/html": [
       "<style type=\"text/css\">\n",
       "</style>\n",
       "<table id=\"T_2755a\">\n",
       "  <thead>\n",
       "    <tr>\n",
       "      <th class=\"blank level0\" >&nbsp;</th>\n",
       "      <th id=\"T_2755a_level0_col0\" class=\"col_heading level0 col0\" >Model</th>\n",
       "      <th id=\"T_2755a_level0_col1\" class=\"col_heading level0 col1\" >Accuracy</th>\n",
       "      <th id=\"T_2755a_level0_col2\" class=\"col_heading level0 col2\" >AUC</th>\n",
       "      <th id=\"T_2755a_level0_col3\" class=\"col_heading level0 col3\" >Recall</th>\n",
       "      <th id=\"T_2755a_level0_col4\" class=\"col_heading level0 col4\" >Prec.</th>\n",
       "      <th id=\"T_2755a_level0_col5\" class=\"col_heading level0 col5\" >F1</th>\n",
       "      <th id=\"T_2755a_level0_col6\" class=\"col_heading level0 col6\" >Kappa</th>\n",
       "      <th id=\"T_2755a_level0_col7\" class=\"col_heading level0 col7\" >MCC</th>\n",
       "    </tr>\n",
       "  </thead>\n",
       "  <tbody>\n",
       "    <tr>\n",
       "      <th id=\"T_2755a_level0_row0\" class=\"row_heading level0 row0\" >0</th>\n",
       "      <td id=\"T_2755a_row0_col0\" class=\"data row0 col0\" >Logistic Regression</td>\n",
       "      <td id=\"T_2755a_row0_col1\" class=\"data row0 col1\" >0.7872</td>\n",
       "      <td id=\"T_2755a_row0_col2\" class=\"data row0 col2\" >0.1622</td>\n",
       "      <td id=\"T_2755a_row0_col3\" class=\"data row0 col3\" >1.0000</td>\n",
       "      <td id=\"T_2755a_row0_col4\" class=\"data row0 col4\" >0.7872</td>\n",
       "      <td id=\"T_2755a_row0_col5\" class=\"data row0 col5\" >0.8810</td>\n",
       "      <td id=\"T_2755a_row0_col6\" class=\"data row0 col6\" >0.0000</td>\n",
       "      <td id=\"T_2755a_row0_col7\" class=\"data row0 col7\" >0.0000</td>\n",
       "    </tr>\n",
       "  </tbody>\n",
       "</table>\n"
      ],
      "text/plain": [
       "<pandas.io.formats.style.Styler at 0x7f554ef23f90>"
      ]
     },
     "metadata": {},
     "output_type": "display_data"
    },
    {
     "data": {
      "text/html": [
       "<div>\n",
       "<style scoped>\n",
       "    .dataframe tbody tr th:only-of-type {\n",
       "        vertical-align: middle;\n",
       "    }\n",
       "\n",
       "    .dataframe tbody tr th {\n",
       "        vertical-align: top;\n",
       "    }\n",
       "\n",
       "    .dataframe thead th {\n",
       "        text-align: right;\n",
       "    }\n",
       "</style>\n",
       "<table border=\"1\" class=\"dataframe\">\n",
       "  <thead>\n",
       "    <tr style=\"text-align: right;\">\n",
       "      <th></th>\n",
       "      <th>PC1</th>\n",
       "      <th>PC2</th>\n",
       "      <th>class</th>\n",
       "      <th>prediction_label</th>\n",
       "      <th>prediction_score_0</th>\n",
       "      <th>prediction_score_1</th>\n",
       "    </tr>\n",
       "  </thead>\n",
       "  <tbody>\n",
       "    <tr>\n",
       "      <th>122</th>\n",
       "      <td>-46.765934</td>\n",
       "      <td>-12.110934</td>\n",
       "      <td>1</td>\n",
       "      <td>1</td>\n",
       "      <td>0.1960</td>\n",
       "      <td>0.8040</td>\n",
       "    </tr>\n",
       "    <tr>\n",
       "      <th>44</th>\n",
       "      <td>-1.311981</td>\n",
       "      <td>-18.426281</td>\n",
       "      <td>1</td>\n",
       "      <td>1</td>\n",
       "      <td>0.1519</td>\n",
       "      <td>0.8481</td>\n",
       "    </tr>\n",
       "    <tr>\n",
       "      <th>112</th>\n",
       "      <td>-56.554646</td>\n",
       "      <td>-10.733547</td>\n",
       "      <td>1</td>\n",
       "      <td>1</td>\n",
       "      <td>0.2067</td>\n",
       "      <td>0.7933</td>\n",
       "    </tr>\n",
       "    <tr>\n",
       "      <th>75</th>\n",
       "      <td>-44.343910</td>\n",
       "      <td>-38.631256</td>\n",
       "      <td>1</td>\n",
       "      <td>1</td>\n",
       "      <td>0.1504</td>\n",
       "      <td>0.8496</td>\n",
       "    </tr>\n",
       "    <tr>\n",
       "      <th>150</th>\n",
       "      <td>155.158676</td>\n",
       "      <td>-35.472729</td>\n",
       "      <td>0</td>\n",
       "      <td>1</td>\n",
       "      <td>0.0613</td>\n",
       "      <td>0.9387</td>\n",
       "    </tr>\n",
       "  </tbody>\n",
       "</table>\n",
       "</div>"
      ],
      "text/plain": [
       "            PC1        PC2  class  prediction_label  prediction_score_0  \\\n",
       "122  -46.765934 -12.110934      1                 1              0.1960   \n",
       "44    -1.311981 -18.426281      1                 1              0.1519   \n",
       "112  -56.554646 -10.733547      1                 1              0.2067   \n",
       "75   -44.343910 -38.631256      1                 1              0.1504   \n",
       "150  155.158676 -35.472729      0                 1              0.0613   \n",
       "\n",
       "     prediction_score_1  \n",
       "122              0.8040  \n",
       "44               0.8481  \n",
       "112              0.7933  \n",
       "75               0.8496  \n",
       "150              0.9387  "
      ]
     },
     "execution_count": 10,
     "metadata": {},
     "output_type": "execute_result"
    }
   ],
   "source": [
    "predictions_prob = predict_model(best_model, raw_score=True)\n",
    "predictions_prob.head()"
   ]
  },
  {
   "cell_type": "markdown",
   "id": "bb3a1dad",
   "metadata": {},
   "source": [
    "### Save the best model"
   ]
  },
  {
   "cell_type": "code",
   "execution_count": 11,
   "id": "6f7d3f65",
   "metadata": {},
   "outputs": [
    {
     "name": "stdout",
     "output_type": "stream",
     "text": [
      "Transformation Pipeline and Model Successfully Saved\n"
     ]
    },
    {
     "data": {
      "text/plain": [
       "(Pipeline(memory=Memory(location=None),\n",
       "          steps=[('numerical_imputer',\n",
       "                  TransformerWrapper(exclude=None, include=['PC1', 'PC2'],\n",
       "                                     transformer=SimpleImputer(add_indicator=False,\n",
       "                                                               copy=True,\n",
       "                                                               fill_value=None,\n",
       "                                                               keep_empty_features=False,\n",
       "                                                               missing_values=nan,\n",
       "                                                               strategy='mean'))),\n",
       "                 ('categorical_imputer',\n",
       "                  TransformerWrapper(exclude=None, include=[],\n",
       "                                     transformer=SimpleImputer(ad...\n",
       "                  TransformerWrapper(exclude=None, include=None,\n",
       "                                     transformer=StandardScaler(copy=True,\n",
       "                                                                with_mean=True,\n",
       "                                                                with_std=True))),\n",
       "                 ('trained_model',\n",
       "                  LogisticRegression(C=1.0, class_weight=None, dual=False,\n",
       "                                     fit_intercept=True, intercept_scaling=1,\n",
       "                                     l1_ratio=None, max_iter=1000,\n",
       "                                     multi_class='auto', n_jobs=None,\n",
       "                                     penalty='l2', random_state=123,\n",
       "                                     solver='lbfgs', tol=0.0001, verbose=0,\n",
       "                                     warm_start=False))],\n",
       "          verbose=False),\n",
       " 'smote_model.pkl')"
      ]
     },
     "execution_count": 11,
     "metadata": {},
     "output_type": "execute_result"
    }
   ],
   "source": [
    "save_model(best_model, \"smote_model\")"
   ]
  }
 ],
 "metadata": {
  "kernelspec": {
   "display_name": "Python 3 (ipykernel)",
   "language": "python",
   "name": "python3"
  },
  "language_info": {
   "codemirror_mode": {
    "name": "ipython",
    "version": 3
   },
   "file_extension": ".py",
   "mimetype": "text/x-python",
   "name": "python",
   "nbconvert_exporter": "python",
   "pygments_lexer": "ipython3",
   "version": "3.11.5"
  }
 },
 "nbformat": 4,
 "nbformat_minor": 5
}
